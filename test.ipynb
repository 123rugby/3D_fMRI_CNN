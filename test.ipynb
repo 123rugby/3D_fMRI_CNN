{
 "cells": [
  {
   "cell_type": "markdown",
   "metadata": {},
   "source": [
    "# Training TF net"
   ]
  },
  {
   "cell_type": "code",
   "execution_count": 1,
   "metadata": {},
   "outputs": [
    {
     "name": "stdout",
     "output_type": "stream",
     "text": [
      "Loading data...\n"
     ]
    }
   ],
   "source": [
    "import sys\n",
    "sys.path.insert(0, '/braintree/home/bashivan/dropbox/Codes/3D_fMRI_CNN/tf_pipeline/')\n",
    "import os\n",
    "from tf_trainer import Trainer\n",
    "import logging \n",
    "from tf_model import TFModel\n",
    "from tf_dataset import TFDataset\n",
    "import numpy as np\n",
    "import tensorflow as tf\n",
    "import numpy as np\n",
    "FLAGS = tf.app.flags.FLAGS\n",
    "os.environ['CUDA_VISIBLE_DEVICES'] = '0,2'\n",
    "\n",
    "fold_to_run = 0\n",
    "\n",
    "# Load the dataset\n",
    "fold_pairs = []\n",
    "\n",
    "model = TFModel()\n",
    "dataset = TFDataset(data_dir='/braintree/data2/active/users/bashivan/Data/fmri_conv')\n",
    "tr = Trainer(model=model, dataset=dataset)\n",
    "print(\"Loading data...\")\n",
    "tr.load_data(random=False)\n",
    "\n",
    "sub_nums = tr.subjects\n",
    "subs_in_fold = np.ceil(np.max(sub_nums) / float(10))\n",
    "\n",
    "subs_in_fold = np.ceil(np.max(sub_nums) / float(10))\n",
    "# n-fold cross validation\n",
    "for i in range(FLAGS.num_folds):\n",
    "    '''\n",
    "    for each kfold selects fold window to collect indices for test dataset and the rest becomes train\n",
    "    '''\n",
    "    test_ids = np.bitwise_and(sub_nums >= subs_in_fold * (i), sub_nums < subs_in_fold * (i + 1))\n",
    "    train_ids = ~ test_ids\n",
    "    fold_pairs.append((np.nonzero(train_ids)[0], np.nonzero(test_ids)[0]))\n",
    "\n",
    "    "
   ]
  },
  {
   "cell_type": "code",
   "execution_count": null,
   "metadata": {},
   "outputs": [
    {
     "name": "stdout",
     "output_type": "stream",
     "text": [
      "Splitting the data...\n",
      "Preprocessing data...\n"
     ]
    }
   ],
   "source": [
    "FLAGS = tf.app.flags.FLAGS\n",
    "\n",
    "fold_num = 0\n",
    "fold = fold_pairs[0]\n",
    "\n",
    "print('Splitting the data...')\n",
    "tr.split_data(fold)\n",
    "print('Preprocessing data...')\n",
    "# tr.preprocess_data()\n"
   ]
  },
  {
   "cell_type": "code",
   "execution_count": null,
   "metadata": {
    "scrolled": false
   },
   "outputs": [
    {
     "name": "stdout",
     "output_type": "stream",
     "text": [
      "****************************************\n",
      "subset: train\n",
      "data_dir: /braintree/data2/active/users/bashivan/Data/fmri_conv_orig\n",
      "num_epochs_per_decay: 5\n",
      "num_gpus: 2\n",
      "train_dir: /braintree/data2/active/users/bashivan/results/temp/0\n",
      "batch_size: 30\n",
      "model_type: lstm\n",
      "num_checkpoints_tosave: 5\n",
      "initial_learning_rate: 0.0001\n",
      "num_examples: None\n",
      "num_epochs: 10\n",
      "checkpoint_dir: .\n",
      "learning_rate_decay_factor: 0.1\n",
      "fold_to_run: -1\n",
      "num_folds: 10\n",
      "seed: 0\n",
      "eval_dir: /om/user/bashivan/temp\n",
      "num_time_steps: 16\n",
      "log_device_placement: False\n",
      "****************************************\n",
      "Using ADAM optimizer...\n",
      "Using default loss (softmax-Xentropy)...\n",
      "WARNING:tensorflow:From /braintree/home/bashivan/dropbox/Codes/3D_fMRI_CNN/tf_pipeline/tf_model.py:205: softmax_cross_entropy (from tensorflow.contrib.losses.python.losses.loss_ops) is deprecated and will be removed after 2016-12-30.\n",
      "Instructions for updating:\n",
      "Use tf.losses.softmax_cross_entropy instead. Note that the order of the logits and labels arguments has been changed.\n",
      "WARNING:tensorflow:From /braintree/home/bashivan/anaconda2/envs/dldata/lib/python2.7/site-packages/tensorflow/contrib/losses/python/losses/loss_ops.py:398: compute_weighted_loss (from tensorflow.contrib.losses.python.losses.loss_ops) is deprecated and will be removed after 2016-12-30.\n",
      "Instructions for updating:\n",
      "Use tf.losses.compute_weighted_loss instead.\n",
      "WARNING:tensorflow:From /braintree/home/bashivan/anaconda2/envs/dldata/lib/python2.7/site-packages/tensorflow/contrib/losses/python/losses/loss_ops.py:151: add_loss (from tensorflow.contrib.framework.python.ops.arg_scope) is deprecated and will be removed after 2016-12-30.\n",
      "Instructions for updating:\n",
      "Use tf.losses.add_loss instead.\n",
      "INFO:tensorflow:Summary name softmax_cross_entropy_loss/value (raw) is illegal; using softmax_cross_entropy_loss/value__raw_ instead.\n",
      "INFO:tensorflow:Summary name total_loss (raw) is illegal; using total_loss__raw_ instead.\n",
      "total_params: 185650\n",
      "Using default loss (softmax-Xentropy)...\n",
      "WARNING:tensorflow:From /braintree/home/bashivan/dropbox/Codes/3D_fMRI_CNN/tf_pipeline/tf_model.py:205: softmax_cross_entropy (from tensorflow.contrib.losses.python.losses.loss_ops) is deprecated and will be removed after 2016-12-30.\n",
      "Instructions for updating:\n",
      "Use tf.losses.softmax_cross_entropy instead. Note that the order of the logits and labels arguments has been changed.\n",
      "WARNING:tensorflow:From /braintree/home/bashivan/anaconda2/envs/dldata/lib/python2.7/site-packages/tensorflow/contrib/losses/python/losses/loss_ops.py:398: compute_weighted_loss (from tensorflow.contrib.losses.python.losses.loss_ops) is deprecated and will be removed after 2016-12-30.\n",
      "Instructions for updating:\n",
      "Use tf.losses.compute_weighted_loss instead.\n",
      "WARNING:tensorflow:From /braintree/home/bashivan/anaconda2/envs/dldata/lib/python2.7/site-packages/tensorflow/contrib/losses/python/losses/loss_ops.py:151: add_loss (from tensorflow.contrib.framework.python.ops.arg_scope) is deprecated and will be removed after 2016-12-30.\n",
      "Instructions for updating:\n",
      "Use tf.losses.add_loss instead.\n",
      "INFO:tensorflow:Summary name softmax_cross_entropy_loss/value (raw) is illegal; using softmax_cross_entropy_loss/value__raw_ instead.\n",
      "INFO:tensorflow:Summary name total_loss (raw) is illegal; using total_loss__raw_ instead.\n",
      "total_params: 185650\n",
      "2017-08-16 16:13:28.924683: step 0, loss = 0.70 (15.4 examples/sec; 1.949 sec/batch)\n",
      "2017-08-16 16:13:36.665472: step 100, loss = 0.68 (583.9 examples/sec; 0.051 sec/batch)\n",
      "2017-08-16 16:13:42.412516: step 200, loss = 0.67 (573.1 examples/sec; 0.052 sec/batch)\n"
     ]
    }
   ],
   "source": [
    "import os\n",
    "FLAGS.initial_learning_rate = 0.0001\n",
    "FLAGS.batch_size = 30\n",
    "FLAGS.num_gpus = 2\n",
    "FLAGS.num_epochs_per_decay = 5\n",
    "FLAGS.train_dir = os.path.join(FLAGS.train_dir, str(fold_num))\n",
    "tr.train(fold_num=fold_num)\n"
   ]
  },
  {
   "cell_type": "code",
   "execution_count": null,
   "metadata": {
    "collapsed": true
   },
   "outputs": [],
   "source": []
  },
  {
   "cell_type": "code",
   "execution_count": 9,
   "metadata": {
    "collapsed": true
   },
   "outputs": [],
   "source": [
    "model.endpoints['lstm_out'].get_shape()[0].value"
   ]
  },
  {
   "cell_type": "code",
   "execution_count": null,
   "metadata": {
    "collapsed": true
   },
   "outputs": [],
   "source": []
  }
 ],
 "metadata": {
  "kernelspec": {
   "display_name": "Python 2",
   "language": "python",
   "name": "python2"
  },
  "language_info": {
   "codemirror_mode": {
    "name": "ipython",
    "version": 2
   },
   "file_extension": ".py",
   "mimetype": "text/x-python",
   "name": "python",
   "nbconvert_exporter": "python",
   "pygments_lexer": "ipython2",
   "version": "2.7.13"
  },
  "toc": {
   "colors": {
    "hover_highlight": "#DAA520",
    "navigate_num": "#000000",
    "navigate_text": "#333333",
    "running_highlight": "#FF0000",
    "selected_highlight": "#FFD700",
    "sidebar_border": "#EEEEEE",
    "wrapper_background": "#FFFFFF"
   },
   "moveMenuLeft": true,
   "nav_menu": {
    "height": "12px",
    "width": "252px"
   },
   "navigate_menu": true,
   "number_sections": true,
   "sideBar": true,
   "threshold": 4,
   "toc_cell": false,
   "toc_section_display": "block",
   "toc_window_display": false,
   "widenNotebook": false
  }
 },
 "nbformat": 4,
 "nbformat_minor": 1
}
